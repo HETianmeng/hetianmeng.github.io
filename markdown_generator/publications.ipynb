{
 "cells": [
  {
   "cell_type": "markdown",
   "metadata": {
    "deletable": true,
    "editable": true
   },
   "source": [
    "# Publications markdown generator for academicpages\n",
    "\n",
    "Takes a TSV of publications with metadata and converts them for use with [academicpages.github.io](academicpages.github.io). This is an interactive Jupyter notebook ([see more info here](http://jupyter-notebook-beginner-guide.readthedocs.io/en/latest/what_is_jupyter.html)). The core python code is also in `publications.py`. Run either from the `markdown_generator` folder after replacing `publications.tsv` with one containing your data.\n",
    "\n",
    "TODO: Make this work with BibTex and other databases of citations, rather than Stuart's non-standard TSV format and citation style.\n"
   ]
  },
  {
   "cell_type": "markdown",
   "metadata": {},
   "source": [
    "## Data format\n",
    "\n",
    "The TSV needs to have the following columns: pub_date, title, venue, excerpt, citation, site_url, and paper_url, with a header at the top. \n",
    "\n",
    "- `excerpt` and `paper_url` can be blank, but the others must have values. \n",
    "- `pub_date` must be formatted as YYYY-MM-DD.\n",
    "- `url_slug` will be the descriptive part of the .md file and the permalink URL for the page about the paper. The .md file will be `YYYY-MM-DD-[url_slug].md` and the permalink will be `https://[yourdomain]/publications/YYYY-MM-DD-[url_slug]`\n",
    "\n",
    "This is how the raw file looks (it doesn't look pretty, use a spreadsheet or other program to edit and create)."
   ]
  },
  {
   "cell_type": "code",
   "execution_count": 32,
   "metadata": {
    "collapsed": false
   },
   "outputs": [
    {
     "name": "stderr",
     "output_type": "stream",
     "text": [
      "'cat' is not recognized as an internal or external command,\n",
      "operable program or batch file.\n"
     ]
    }
   ],
   "source": [
    "!cat publications.tsv"
   ]
  },
  {
   "cell_type": "markdown",
   "metadata": {},
   "source": [
    "## Import pandas\n",
    "\n",
    "We are using the very handy pandas library for dataframes."
   ]
  },
  {
   "cell_type": "code",
   "execution_count": 33,
   "metadata": {
    "collapsed": true,
    "deletable": true,
    "editable": true
   },
   "outputs": [],
   "source": [
    "import pandas as pd"
   ]
  },
  {
   "cell_type": "markdown",
   "metadata": {},
   "source": [
    "## Import TSV\n",
    "\n",
    "Pandas makes this easy with the read_csv function. We are using a TSV, so we specify the separator as a tab, or `\\t`.\n",
    "\n",
    "I found it important to put this data in a tab-separated values format, because there are a lot of commas in this kind of data and comma-separated values can get messed up. However, you can modify the import statement, as pandas also has read_excel(), read_json(), and others."
   ]
  },
  {
   "cell_type": "code",
   "execution_count": 34,
   "metadata": {
    "collapsed": false,
    "deletable": true,
    "editable": true
   },
   "outputs": [
    {
     "data": {
      "text/html": [
       "<div>\n",
       "<style scoped>\n",
       "    .dataframe tbody tr th:only-of-type {\n",
       "        vertical-align: middle;\n",
       "    }\n",
       "\n",
       "    .dataframe tbody tr th {\n",
       "        vertical-align: top;\n",
       "    }\n",
       "\n",
       "    .dataframe thead th {\n",
       "        text-align: right;\n",
       "    }\n",
       "</style>\n",
       "<table border=\"1\" class=\"dataframe\">\n",
       "  <thead>\n",
       "    <tr style=\"text-align: right;\">\n",
       "      <th></th>\n",
       "      <th>pub_date</th>\n",
       "      <th>title</th>\n",
       "      <th>venue</th>\n",
       "      <th>excerpt</th>\n",
       "      <th>citation</th>\n",
       "      <th>url_slug</th>\n",
       "      <th>paper_url</th>\n",
       "    </tr>\n",
       "  </thead>\n",
       "  <tbody>\n",
       "    <tr>\n",
       "      <th>0</th>\n",
       "      <td>2017/10/1</td>\n",
       "      <td>Estimating activity of Japanese macaques (Maca...</td>\n",
       "      <td>American Journal of Primatology</td>\n",
       "      <td>Accelerometers have been used to study both te...</td>\n",
       "      <td>Sha, J. C. M., S., Akihisa, K., Naoko, S.-H., ...</td>\n",
       "      <td>Estimating activity of Japanese macaques (Maca...</td>\n",
       "      <td>https://doi.org/10.1002/ajp.22694</td>\n",
       "    </tr>\n",
       "    <tr>\n",
       "      <th>1</th>\n",
       "      <td>2017/12/18</td>\n",
       "      <td>Morphometric and genetic determination of age ...</td>\n",
       "      <td>Mammal Study</td>\n",
       "      <td>We aimed to validate a method to identify age ...</td>\n",
       "      <td>Hanya, G., Naito, S., Namioka, E., Ueda, Y., S...</td>\n",
       "      <td>Morphometric and genetic determination of age ...</td>\n",
       "      <td>https://doi.org/10.3106/041.042.0406</td>\n",
       "    </tr>\n",
       "    <tr>\n",
       "      <th>2</th>\n",
       "      <td>2018/8/1</td>\n",
       "      <td>Seasonal variation of energy expenditure in Ja...</td>\n",
       "      <td>Journal of Thermal Biology</td>\n",
       "      <td>Animals living in seasonal environments must a...</td>\n",
       "      <td>Sha, J. C. M., Kurihara, Y., Tsuji, Y., Take, ...</td>\n",
       "      <td>Seasonal variation of energy expenditure in Ja...</td>\n",
       "      <td>https://doi.org/10.1016/j.jtherbio.2018.07.009</td>\n",
       "    </tr>\n",
       "    <tr>\n",
       "      <th>3</th>\n",
       "      <td>2020/1/1</td>\n",
       "      <td>Variation in chewing efficiency of Yakushima J...</td>\n",
       "      <td>American Journal of Physical Anthropology</td>\n",
       "      <td>Objectives: Chewing efficiency plays an import...</td>\n",
       "      <td>He, T., Honda, T., Kurihara, Y., &amp; Thiery, G. ...</td>\n",
       "      <td>Variation in chewing efficiency of Yakushima J...</td>\n",
       "      <td>https://doi.org/10.1002/ajpa.23955</td>\n",
       "    </tr>\n",
       "    <tr>\n",
       "      <th>4</th>\n",
       "      <td>2021/2/27</td>\n",
       "      <td>Effects of diet and age-sex class on the fecal...</td>\n",
       "      <td>American Journal of Primatology</td>\n",
       "      <td>Fecal particle size provides important informa...</td>\n",
       "      <td>He, T., Lee, W., &amp; Hanya, G. (2021). Effects o...</td>\n",
       "      <td>Effects of diet and age-sex class on the fecal...</td>\n",
       "      <td>https://doi.org/10.1002/ajp.23245</td>\n",
       "    </tr>\n",
       "  </tbody>\n",
       "</table>\n",
       "</div>"
      ],
      "text/plain": [
       "     pub_date                                              title  \\\n",
       "0   2017/10/1  Estimating activity of Japanese macaques (Maca...   \n",
       "1  2017/12/18  Morphometric and genetic determination of age ...   \n",
       "2    2018/8/1  Seasonal variation of energy expenditure in Ja...   \n",
       "3    2020/1/1  Variation in chewing efficiency of Yakushima J...   \n",
       "4   2021/2/27  Effects of diet and age-sex class on the fecal...   \n",
       "\n",
       "                                       venue  \\\n",
       "0            American Journal of Primatology   \n",
       "1                               Mammal Study   \n",
       "2                 Journal of Thermal Biology   \n",
       "3  American Journal of Physical Anthropology   \n",
       "4            American Journal of Primatology   \n",
       "\n",
       "                                             excerpt  \\\n",
       "0  Accelerometers have been used to study both te...   \n",
       "1  We aimed to validate a method to identify age ...   \n",
       "2  Animals living in seasonal environments must a...   \n",
       "3  Objectives: Chewing efficiency plays an import...   \n",
       "4  Fecal particle size provides important informa...   \n",
       "\n",
       "                                            citation  \\\n",
       "0  Sha, J. C. M., S., Akihisa, K., Naoko, S.-H., ...   \n",
       "1  Hanya, G., Naito, S., Namioka, E., Ueda, Y., S...   \n",
       "2  Sha, J. C. M., Kurihara, Y., Tsuji, Y., Take, ...   \n",
       "3  He, T., Honda, T., Kurihara, Y., & Thiery, G. ...   \n",
       "4  He, T., Lee, W., & Hanya, G. (2021). Effects o...   \n",
       "\n",
       "                                            url_slug  \\\n",
       "0  Estimating activity of Japanese macaques (Maca...   \n",
       "1  Morphometric and genetic determination of age ...   \n",
       "2  Seasonal variation of energy expenditure in Ja...   \n",
       "3  Variation in chewing efficiency of Yakushima J...   \n",
       "4  Effects of diet and age-sex class on the fecal...   \n",
       "\n",
       "                                        paper_url  \n",
       "0               https://doi.org/10.1002/ajp.22694  \n",
       "1            https://doi.org/10.3106/041.042.0406  \n",
       "2  https://doi.org/10.1016/j.jtherbio.2018.07.009  \n",
       "3              https://doi.org/10.1002/ajpa.23955  \n",
       "4               https://doi.org/10.1002/ajp.23245  "
      ]
     },
     "execution_count": 34,
     "metadata": {},
     "output_type": "execute_result"
    }
   ],
   "source": [
    "publications = pd.read_csv(\"publications.tsv\", sep=\"\\t\", header=0)\n",
    "publications\n"
   ]
  },
  {
   "cell_type": "markdown",
   "metadata": {},
   "source": [
    "## Escape special characters\n",
    "\n",
    "YAML is very picky about how it takes a valid string, so we are replacing single and double quotes (and ampersands) with their HTML encoded equivilents. This makes them look not so readable in raw format, but they are parsed and rendered nicely."
   ]
  },
  {
   "cell_type": "code",
   "execution_count": 35,
   "metadata": {
    "collapsed": true,
    "deletable": true,
    "editable": true
   },
   "outputs": [],
   "source": [
    "html_escape_table = {\n",
    "    \"&\": \"&amp;\",\n",
    "    '\"': \"&quot;\",\n",
    "    \"'\": \"&apos;\"\n",
    "    }\n",
    "\n",
    "def html_escape(text):\n",
    "    \"\"\"Produce entities within text.\"\"\"\n",
    "    return \"\".join(html_escape_table.get(c,c) for c in text)"
   ]
  },
  {
   "cell_type": "markdown",
   "metadata": {},
   "source": [
    "## Creating the markdown files\n",
    "\n",
    "This is where the heavy lifting is done. This loops through all the rows in the TSV dataframe, then starts to concatentate a big string (```md```) that contains the markdown for each type. It does the YAML metadata first, then does the description for the individual page."
   ]
  },
  {
   "cell_type": "code",
   "execution_count": 36,
   "metadata": {
    "collapsed": false,
    "deletable": true,
    "editable": true
   },
   "outputs": [],
   "source": [
    "import os\n",
    "for row, item in publications.iterrows():\n",
    "    \n",
    "    md_filename = str(item.pub_date) + \"-\" + item.url_slug + \".md\"\n",
    "    html_filename = str(item.pub_date) + \"-\" + item.url_slug\n",
    "    year = item.pub_date[:4]\n",
    "    \n",
    "    ## YAML variables\n",
    "    \n",
    "    md = \"---\\ntitle: \\\"\"   + item.title + '\"\\n'\n",
    "    \n",
    "    md += \"\"\"collection: publications\"\"\"\n",
    "    \n",
    "    md += \"\"\"\\npermalink: /publication/\"\"\" + html_filename\n",
    "    \n",
    "    if len(str(item.excerpt)) > 5:\n",
    "        md += \"\\nexcerpt: '\" + html_escape(item.excerpt) + \"'\"\n",
    "    \n",
    "    md += \"\\ndate: \" + str(item.pub_date) \n",
    "    \n",
    "    md += \"\\nvenue: '\" + html_escape(item.venue) + \"'\"\n",
    "    \n",
    "    if len(str(item.paper_url)) > 5:\n",
    "        md += \"\\npaperurl: '\" + item.paper_url + \"'\"\n",
    "    \n",
    "    md += \"\\ncitation: '\" + html_escape(item.citation) + \"'\"\n",
    "    \n",
    "    md += \"\\n---\"\n",
    "    \n",
    "    ## Markdown description for individual page\n",
    "        \n",
    "    if len(str(item.excerpt)) > 5:\n",
    "        md += \"\\n\" + html_escape(item.excerpt) + \"\\n\"\n",
    "    \n",
    "    if len(str(item.paper_url)) > 5:\n",
    "        md += \"\\n[Download paper here](\" + item.paper_url + \")\\n\" \n",
    "        \n",
    "    md += \"\\nRecommended citation: \" + item.citation\n",
    "    \n",
    "    md_filename = os.path.basename(md_filename)\n",
    "       \n",
    "    with open(\"../_publications/\" + md_filename, 'w') as f:\n",
    "        f.write(md)"
   ]
  },
  {
   "cell_type": "markdown",
   "metadata": {},
   "source": [
    "These files are in the publications directory, one directory below where we're working from."
   ]
  },
  {
   "cell_type": "code",
   "execution_count": 37,
   "metadata": {
    "collapsed": false,
    "deletable": true,
    "editable": true
   },
   "outputs": [
    {
     "name": "stderr",
     "output_type": "stream",
     "text": [
      "'ls' is not recognized as an internal or external command,\n",
      "operable program or batch file.\n"
     ]
    }
   ],
   "source": [
    "!ls ../_publications/"
   ]
  },
  {
   "cell_type": "code",
   "execution_count": 38,
   "metadata": {
    "collapsed": false,
    "deletable": true,
    "editable": true
   },
   "outputs": [
    {
     "name": "stderr",
     "output_type": "stream",
     "text": [
      "'cat' is not recognized as an internal or external command,\n",
      "operable program or batch file.\n"
     ]
    }
   ],
   "source": [
    "!cat ../_publications/2009-10-01-paper-title-number-1.md"
   ]
  },
  {
   "cell_type": "code",
   "execution_count": null,
   "metadata": {
    "collapsed": true,
    "deletable": true,
    "editable": true
   },
   "outputs": [],
   "source": []
  }
 ],
 "metadata": {
  "kernelspec": {
   "display_name": "Python 3.9.2 64-bit",
   "language": "python",
   "name": "python3"
  },
  "language_info": {
   "codemirror_mode": {
    "name": "ipython",
    "version": 3
   },
   "file_extension": ".py",
   "mimetype": "text/x-python",
   "name": "python",
   "nbconvert_exporter": "python",
   "pygments_lexer": "ipython3",
   "version": "3.9.2"
  },
  "vscode": {
   "interpreter": {
    "hash": "43c29667b6225268a1a6ca3e87fa4b4b132f20952a9fe909a44359904d85b0b8"
   }
  }
 },
 "nbformat": 4,
 "nbformat_minor": 0
}
