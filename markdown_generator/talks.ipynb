{
 "cells": [
  {
   "cell_type": "markdown",
   "metadata": {
    "deletable": true,
    "editable": true
   },
   "source": [
    "# Talks markdown generator for academicpages\n",
    "\n",
    "Takes a TSV of talks with metadata and converts them for use with [academicpages.github.io](academicpages.github.io). This is an interactive Jupyter notebook ([see more info here](http://jupyter-notebook-beginner-guide.readthedocs.io/en/latest/what_is_jupyter.html)). The core python code is also in `talks.py`. Run either from the `markdown_generator` folder after replacing `talks.tsv` with one containing your data.\n",
    "\n",
    "TODO: Make this work with BibTex and other databases, rather than Stuart's non-standard TSV format and citation style."
   ]
  },
  {
   "cell_type": "code",
   "execution_count": 15,
   "metadata": {
    "collapsed": false,
    "deletable": true,
    "editable": true
   },
   "outputs": [],
   "source": [
    "import pandas as pd\n",
    "import os"
   ]
  },
  {
   "cell_type": "markdown",
   "metadata": {},
   "source": [
    "## Data format\n",
    "\n",
    "The TSV needs to have the following columns: title, type, url_slug, venue, date, location, talk_url, description, with a header at the top. Many of these fields can be blank, but the columns must be in the TSV.\n",
    "\n",
    "- Fields that cannot be blank: `title`, `url_slug`, `date`. All else can be blank. `type` defaults to \"Talk\" \n",
    "- `date` must be formatted as YYYY-MM-DD.\n",
    "- `url_slug` will be the descriptive part of the .md file and the permalink URL for the page about the paper. \n",
    "    - The .md file will be `YYYY-MM-DD-[url_slug].md` and the permalink will be `https://[yourdomain]/talks/YYYY-MM-DD-[url_slug]`\n",
    "    - The combination of `url_slug` and `date` must be unique, as it will be the basis for your filenames\n",
    "\n",
    "This is how the raw file looks (it doesn't look pretty, use a spreadsheet or other program to edit and create)."
   ]
  },
  {
   "cell_type": "code",
   "execution_count": 16,
   "metadata": {
    "collapsed": false
   },
   "outputs": [
    {
     "name": "stderr",
     "output_type": "stream",
     "text": [
      "'cat' is not recognized as an internal or external command,\n",
      "operable program or batch file.\n"
     ]
    }
   ],
   "source": [
    "!cat talks.tsv"
   ]
  },
  {
   "cell_type": "markdown",
   "metadata": {},
   "source": [
    "## Import TSV\n",
    "\n",
    "Pandas makes this easy with the read_csv function. We are using a TSV, so we specify the separator as a tab, or `\\t`.\n",
    "\n",
    "I found it important to put this data in a tab-separated values format, because there are a lot of commas in this kind of data and comma-separated values can get messed up. However, you can modify the import statement, as pandas also has read_excel(), read_json(), and others."
   ]
  },
  {
   "cell_type": "code",
   "execution_count": 17,
   "metadata": {
    "collapsed": false,
    "deletable": true,
    "editable": true
   },
   "outputs": [
    {
     "data": {
      "text/html": [
       "<div>\n",
       "<style scoped>\n",
       "    .dataframe tbody tr th:only-of-type {\n",
       "        vertical-align: middle;\n",
       "    }\n",
       "\n",
       "    .dataframe tbody tr th {\n",
       "        vertical-align: top;\n",
       "    }\n",
       "\n",
       "    .dataframe thead th {\n",
       "        text-align: right;\n",
       "    }\n",
       "</style>\n",
       "<table border=\"1\" class=\"dataframe\">\n",
       "  <thead>\n",
       "    <tr style=\"text-align: right;\">\n",
       "      <th></th>\n",
       "      <th>title</th>\n",
       "      <th>type</th>\n",
       "      <th>url_slug</th>\n",
       "      <th>venue</th>\n",
       "      <th>date</th>\n",
       "      <th>location</th>\n",
       "      <th>talk_url</th>\n",
       "      <th>description</th>\n",
       "    </tr>\n",
       "  </thead>\n",
       "  <tbody>\n",
       "    <tr>\n",
       "      <th>0</th>\n",
       "      <td>The Effects of Food Properties on Chewing Effi...</td>\n",
       "      <td>Poster</td>\n",
       "      <td>The Effects of Food Properties on Chewing Effi...</td>\n",
       "      <td>The 6th Asian Primates Symposium &amp; the 5th Asi...</td>\n",
       "      <td>2018/10/20</td>\n",
       "      <td>Dali, China</td>\n",
       "      <td>NaN</td>\n",
       "      <td>NaN</td>\n",
       "    </tr>\n",
       "    <tr>\n",
       "      <th>1</th>\n",
       "      <td>Effects of Food Fracture Toughness on Chewing ...</td>\n",
       "      <td>Talk</td>\n",
       "      <td>Effects of Food Fracture Toughness on Chewing ...</td>\n",
       "      <td>The 35th Annual Congress of the Primate Societ...</td>\n",
       "      <td>2019/7/13</td>\n",
       "      <td>Kumamoto, Japan</td>\n",
       "      <td>NaN</td>\n",
       "      <td>NaN</td>\n",
       "    </tr>\n",
       "    <tr>\n",
       "      <th>2</th>\n",
       "      <td>Temporal and age-sex effects on chewing effici...</td>\n",
       "      <td>Talk</td>\n",
       "      <td>Temporal and age-sex effects on chewing effici...</td>\n",
       "      <td>The 16th Academic Annual Conference of Primato...</td>\n",
       "      <td>2022/11/2</td>\n",
       "      <td>Guiyang, China</td>\n",
       "      <td>NaN</td>\n",
       "      <td>NaN</td>\n",
       "    </tr>\n",
       "    <tr>\n",
       "      <th>3</th>\n",
       "      <td>Effects of Food Toughness and Age-sex on Chewi...</td>\n",
       "      <td>Poster</td>\n",
       "      <td>Effects of Food Toughness and Age-sex on Chewi...</td>\n",
       "      <td>Symposium of Integrative Biology II: World Tour</td>\n",
       "      <td>2019/11/11</td>\n",
       "      <td>Kyoto, Japan</td>\n",
       "      <td>NaN</td>\n",
       "      <td>NaN</td>\n",
       "    </tr>\n",
       "    <tr>\n",
       "      <th>4</th>\n",
       "      <td>How diet composition, dietary toughness, age a...</td>\n",
       "      <td>Talk</td>\n",
       "      <td>How diet composition, dietary toughness, age a...</td>\n",
       "      <td>The 36th Annual Congress of the Primate Societ...</td>\n",
       "      <td>2020/12/5</td>\n",
       "      <td>Online</td>\n",
       "      <td>NaN</td>\n",
       "      <td>NaN</td>\n",
       "    </tr>\n",
       "    <tr>\n",
       "      <th>5</th>\n",
       "      <td>Examining determinants of fecal particle size ...</td>\n",
       "      <td>Talk</td>\n",
       "      <td>Examining determinants of fecal particle size ...</td>\n",
       "      <td>The 68th Annual Meeting of the Ecological Soci...</td>\n",
       "      <td>2021/3/17</td>\n",
       "      <td>Online, Okayama, Japan</td>\n",
       "      <td>NaN</td>\n",
       "      <td>NaN</td>\n",
       "    </tr>\n",
       "    <tr>\n",
       "      <th>6</th>\n",
       "      <td>Examining the Role of Diet and Age-sex Class i...</td>\n",
       "      <td>Talk</td>\n",
       "      <td>Examining the Role of Diet and Age-sex Class i...</td>\n",
       "      <td>Joint Meeting of the International Primatologi...</td>\n",
       "      <td>2022/1/12</td>\n",
       "      <td>Online, Quito, Ecuador</td>\n",
       "      <td>NaN</td>\n",
       "      <td>NaN</td>\n",
       "    </tr>\n",
       "    <tr>\n",
       "      <th>7</th>\n",
       "      <td>Is particle size reduction important for eatin...</td>\n",
       "      <td>Talk</td>\n",
       "      <td>Is particle size reduction important for eatin...</td>\n",
       "      <td>The 69th Annual Meeting of the Ecological Soci...</td>\n",
       "      <td>2022/3/14</td>\n",
       "      <td>Online, Fukuoka, Japan</td>\n",
       "      <td>NaN</td>\n",
       "      <td>NaN</td>\n",
       "    </tr>\n",
       "  </tbody>\n",
       "</table>\n",
       "</div>"
      ],
      "text/plain": [
       "                                               title    type  \\\n",
       "0  The Effects of Food Properties on Chewing Effi...  Poster   \n",
       "1  Effects of Food Fracture Toughness on Chewing ...    Talk   \n",
       "2  Temporal and age-sex effects on chewing effici...    Talk   \n",
       "3  Effects of Food Toughness and Age-sex on Chewi...  Poster   \n",
       "4  How diet composition, dietary toughness, age a...    Talk   \n",
       "5  Examining determinants of fecal particle size ...    Talk   \n",
       "6  Examining the Role of Diet and Age-sex Class i...    Talk   \n",
       "7  Is particle size reduction important for eatin...    Talk   \n",
       "\n",
       "                                            url_slug  \\\n",
       "0  The Effects of Food Properties on Chewing Effi...   \n",
       "1  Effects of Food Fracture Toughness on Chewing ...   \n",
       "2  Temporal and age-sex effects on chewing effici...   \n",
       "3  Effects of Food Toughness and Age-sex on Chewi...   \n",
       "4  How diet composition, dietary toughness, age a...   \n",
       "5  Examining determinants of fecal particle size ...   \n",
       "6  Examining the Role of Diet and Age-sex Class i...   \n",
       "7  Is particle size reduction important for eatin...   \n",
       "\n",
       "                                               venue        date  \\\n",
       "0  The 6th Asian Primates Symposium & the 5th Asi...  2018/10/20   \n",
       "1  The 35th Annual Congress of the Primate Societ...   2019/7/13   \n",
       "2  The 16th Academic Annual Conference of Primato...   2022/11/2   \n",
       "3    Symposium of Integrative Biology II: World Tour  2019/11/11   \n",
       "4  The 36th Annual Congress of the Primate Societ...   2020/12/5   \n",
       "5  The 68th Annual Meeting of the Ecological Soci...   2021/3/17   \n",
       "6  Joint Meeting of the International Primatologi...   2022/1/12   \n",
       "7  The 69th Annual Meeting of the Ecological Soci...   2022/3/14   \n",
       "\n",
       "                 location  talk_url  description  \n",
       "0             Dali, China       NaN          NaN  \n",
       "1         Kumamoto, Japan       NaN          NaN  \n",
       "2          Guiyang, China       NaN          NaN  \n",
       "3            Kyoto, Japan       NaN          NaN  \n",
       "4                  Online       NaN          NaN  \n",
       "5  Online, Okayama, Japan       NaN          NaN  \n",
       "6  Online, Quito, Ecuador       NaN          NaN  \n",
       "7  Online, Fukuoka, Japan       NaN          NaN  "
      ]
     },
     "execution_count": 17,
     "metadata": {},
     "output_type": "execute_result"
    }
   ],
   "source": [
    "talks = pd.read_csv(\"talks.tsv\", sep=\"\\t\", header=0)\n",
    "talks"
   ]
  },
  {
   "cell_type": "markdown",
   "metadata": {},
   "source": [
    "## Escape special characters\n",
    "\n",
    "YAML is very picky about how it takes a valid string, so we are replacing single and double quotes (and ampersands) with their HTML encoded equivilents. This makes them look not so readable in raw format, but they are parsed and rendered nicely."
   ]
  },
  {
   "cell_type": "code",
   "execution_count": 18,
   "metadata": {
    "collapsed": false,
    "deletable": true,
    "editable": true
   },
   "outputs": [],
   "source": [
    "html_escape_table = {\n",
    "    \"&\": \"&amp;\",\n",
    "    '\"': \"&quot;\",\n",
    "    \"'\": \"&apos;\"\n",
    "    }\n",
    "\n",
    "def html_escape(text):\n",
    "    if type(text) is str:\n",
    "        return \"\".join(html_escape_table.get(c,c) for c in text)\n",
    "    else:\n",
    "        return \"False\""
   ]
  },
  {
   "cell_type": "markdown",
   "metadata": {},
   "source": [
    "## Creating the markdown files\n",
    "\n",
    "This is where the heavy lifting is done. This loops through all the rows in the TSV dataframe, then starts to concatentate a big string (```md```) that contains the markdown for each type. It does the YAML metadata first, then does the description for the individual page."
   ]
  },
  {
   "cell_type": "code",
   "execution_count": 19,
   "metadata": {
    "collapsed": false,
    "deletable": true,
    "editable": true
   },
   "outputs": [],
   "source": [
    "loc_dict = {}\n",
    "\n",
    "for row, item in talks.iterrows():\n",
    "    \n",
    "    md_filename = str(item.date) + \"-\" + item.url_slug + \".md\"\n",
    "    html_filename = str(item.date) + \"-\" + item.url_slug \n",
    "    year = item.date[:4]\n",
    "    \n",
    "    md = \"---\\ntitle: \\\"\"   + item.title + '\"\\n'\n",
    "    md += \"collection: talks\" + \"\\n\"\n",
    "    \n",
    "    if len(str(item.type)) > 3:\n",
    "        md += 'type: \"' + item.type + '\"\\n'\n",
    "    else:\n",
    "        md += 'type: \"Talk\"\\n'\n",
    "    \n",
    "    md += \"permalink: /talks/\" + html_filename + \"\\n\"\n",
    "    \n",
    "    if len(str(item.venue)) > 3:\n",
    "        md += 'venue: \"' + item.venue + '\"\\n'\n",
    "        \n",
    "    if len(str(item.location)) > 3:\n",
    "        md += \"date: \" + str(item.date) + \"\\n\"\n",
    "    \n",
    "    if len(str(item.location)) > 3:\n",
    "        md += 'location: \"' + str(item.location) + '\"\\n'\n",
    "           \n",
    "    md += \"---\\n\"\n",
    "    \n",
    "    \n",
    "    if len(str(item.talk_url)) > 3:\n",
    "        md += \"\\n[More information here](\" + item.talk_url + \")\\n\" \n",
    "        \n",
    "    \n",
    "    if len(str(item.description)) > 3:\n",
    "        md += \"\\n\" + html_escape(item.description) + \"\\n\"\n",
    "        \n",
    "        \n",
    "    md_filename = os.path.basename(md_filename)\n",
    "    #print(md)\n",
    "    \n",
    "    with open(\"../_talks/\" + md_filename, 'w') as f:\n",
    "        f.write(md)"
   ]
  },
  {
   "cell_type": "markdown",
   "metadata": {},
   "source": [
    "These files are in the talks directory, one directory below where we're working from."
   ]
  },
  {
   "cell_type": "code",
   "execution_count": 20,
   "metadata": {
    "collapsed": false,
    "deletable": true,
    "editable": true
   },
   "outputs": [
    {
     "name": "stderr",
     "output_type": "stream",
     "text": [
      "'ls' is not recognized as an internal or external command,\n",
      "operable program or batch file.\n"
     ]
    }
   ],
   "source": [
    "!ls ../_talks"
   ]
  },
  {
   "cell_type": "code",
   "execution_count": 21,
   "metadata": {
    "collapsed": false,
    "deletable": true,
    "editable": true
   },
   "outputs": [
    {
     "name": "stderr",
     "output_type": "stream",
     "text": [
      "'cat' is not recognized as an internal or external command,\n",
      "operable program or batch file.\n"
     ]
    }
   ],
   "source": [
    "!cat ../_talks/2013-03-01-tutorial-1.md"
   ]
  }
 ],
 "metadata": {
  "kernelspec": {
   "display_name": "Python 3.9.2 64-bit",
   "language": "python",
   "name": "python3"
  },
  "language_info": {
   "codemirror_mode": {
    "name": "ipython",
    "version": 3
   },
   "file_extension": ".py",
   "mimetype": "text/x-python",
   "name": "python",
   "nbconvert_exporter": "python",
   "pygments_lexer": "ipython3",
   "version": "3.9.2"
  },
  "vscode": {
   "interpreter": {
    "hash": "43c29667b6225268a1a6ca3e87fa4b4b132f20952a9fe909a44359904d85b0b8"
   }
  }
 },
 "nbformat": 4,
 "nbformat_minor": 0
}
